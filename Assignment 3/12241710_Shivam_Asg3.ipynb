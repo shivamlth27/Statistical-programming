{
 "cells": [
  {
   "cell_type": "markdown",
   "metadata": {},
   "source": [
    "# <p align=\"center\">DS201: Statistical Programming</p>\n",
    "<p align=\"center\">Assignment 3</p>\n",
    "\n",
    "\n",
    "<font color=\"lightgreen\">**Name:** Shivam<br>\n",
    "**Roll No:** 12241710</font>\n",
    "\n",
    "\n"
   ]
  },
  {
   "cell_type": "markdown",
   "metadata": {},
   "source": [
    "# Q1."
   ]
  },
  {
   "cell_type": "markdown",
   "metadata": {},
   "source": [
    "# Unveiling Gaussian Secrets"
   ]
  },
  {
   "cell_type": "markdown",
   "metadata": {},
   "source": [
    "_**Task 1**_<br>\n",
    "\n",
    "<font color=\"lightgreen\">Write a Python function to generate 10,000 random numbers following a Normal distribution, embodying the symmetrical beauty of Gaussian fluctuations.</font>"
   ]
  },
  {
   "cell_type": "markdown",
   "metadata": {},
   "source": [
    "\n",
    "The probability density function (PDF) of the normal distribution, also known as the Gaussian distribution, is given by the formula:<br>\n",
    "<math xmlns=\"http://www.w3.org/1998/Math/MathML\"><mi>f</mi><mrow><mo>(</mo><mrow><mi>x</mi><mo>|</mo><mi>&#x3bc;</mi><mo>,</mo><mo>&#xa0;</mo><mi>&#x3c3;</mi></mrow><mo>)</mo></mrow><mo>&#xa0;</mo><mo>=</mo><mo>&#xa0;</mo><mrow><mo>(</mo><mrow><mfrac><mn>1</mn><mrow><mi>&#x3c3;</mi><msqrt><mrow><mn>2</mn><mi>&#x3c0;</mi></mrow></msqrt></mrow></mfrac><mo>&#xa0;</mo></mrow><mo>)</mo></mrow><mo>&#xa0;</mo><msup><mi>e</mi><mrow><mo>-</mo><mfrac><mn>1</mn><mn>2</mn></mfrac><msup><mfenced><mfrac><mrow><mo>(</mo><mi>x</mi><mo>&#xa0;</mo><mo>-</mo><mo>&#xa0;</mo><mi>&#x3bc;</mi><mo>)</mo></mrow><mrow><msup><mi>&#x3c3;</mi><mn>2</mn></msup></mrow></mfrac></mfenced><mn>2</mn></msup></mrow></msup></math><br>\n",
    "\n",
    "Where:<br>\n",
    "x is the random variable.<br>\n",
    "\n",
    "μ is the mean of the distribution.<br>\n",
    "\n",
    "σ is the standard deviation of the distribution.<br>\n"
   ]
  },
  {
   "cell_type": "markdown",
   "metadata": {},
   "source": [
    "Inverse Transform Sampling"
   ]
  },
  {
   "cell_type": "code",
   "execution_count": 1,
   "metadata": {},
   "outputs": [],
   "source": [
    "import numpy as np\n",
    "\n",
    "def generate_normal_distribution_inverse(mean, sigma, n):\n",
    "    y = np.random.rand(n)\n",
    "    \n",
    "    # Inverse of the cumulative distribution function (CDF) of the normal distribution\n",
    "    inv_cdf = lambda x: mean + sigma * np.sqrt(2) * np.sqrt(-np.log(1 - x))\n",
    "    \n",
    "    return inv_cdf(y)"
   ]
  },
  {
   "cell_type": "markdown",
   "metadata": {},
   "source": [
    " The Box-Muller Transform"
   ]
  },
  {
   "cell_type": "code",
   "execution_count": 2,
   "metadata": {},
   "outputs": [],
   "source": [
    "import numpy as np\n",
    "def generate_normal_distribution(mean, sigma, size):\n",
    "    a = np.random.rand(size)\n",
    "    b = np.random.rand(size)\n",
    "\n",
    "    z = np.sqrt(-2 * np.log(a)) * np.cos(2 * np.pi * b)\n",
    "\n",
    "    return mean + sigma * z"
   ]
  },
  {
   "cell_type": "code",
   "execution_count": 3,
   "metadata": {},
   "outputs": [],
   "source": [
    "mean=5\n",
    "sigma=9\n",
    "normal_random_numbers= generate_normal_distribution(mean, sigma, 10000)"
   ]
  },
  {
   "cell_type": "code",
   "execution_count": 4,
   "metadata": {},
   "outputs": [
    {
     "name": "stdout",
     "output_type": "stream",
     "text": [
      "Generated random numbers: [-2.06072751 -8.41383642 17.98255545 16.74616053  1.81662068 16.72751313\n",
      " -6.54454836 12.3839195  -5.0831254   6.48298159]\n"
     ]
    }
   ],
   "source": [
    "print(\"Generated random numbers:\", normal_random_numbers[:10])"
   ]
  },
  {
   "cell_type": "markdown",
   "metadata": {},
   "source": [
    "_**Task 2**_<br>\n",
    "\n",
    "<font color=\"lightgreen\">Decode the essence by unveiling the parameters μ (mean) and σ (standard deviation) for\n",
    "the Normal distribution.</font>"
   ]
  },
  {
   "cell_type": "code",
   "execution_count": 5,
   "metadata": {},
   "outputs": [
    {
     "name": "stdout",
     "output_type": "stream",
     "text": [
      "Mean:  5  \n",
      "Standard deviation:  9\n"
     ]
    }
   ],
   "source": [
    "print(\"Mean: \", mean, \" \\nStandard deviation: \", sigma)"
   ]
  },
  {
   "cell_type": "code",
   "execution_count": 6,
   "metadata": {},
   "outputs": [
    {
     "name": "stdout",
     "output_type": "stream",
     "text": [
      "Generated mean:  4.969937252750685  \n",
      "Generated Standard deviation:  9.025004448956006\n"
     ]
    }
   ],
   "source": [
    "gen_mean = np.mean(normal_random_numbers)\n",
    "gen_sigma = np.std(normal_random_numbers)\n",
    "print(\"Generated mean: \", gen_mean, \" \\nGenerated Standard deviation: \", gen_sigma)"
   ]
  },
  {
   "cell_type": "markdown",
   "metadata": {},
   "source": [
    "_**Task 3**_<br>\n",
    "\n",
    "<font color=\"lightgreen\">Compute the expected point, μ, embracing the predictability of Gaussian occurrences.</font>"
   ]
  },
  {
   "cell_type": "code",
   "execution_count": 7,
   "metadata": {},
   "outputs": [
    {
     "name": "stdout",
     "output_type": "stream",
     "text": [
      "Expected point(μ) : 4.969937252750691\n"
     ]
    }
   ],
   "source": [
    "mean=sum(normal_random_numbers)/10000\n",
    "print(\"Expected point(μ) :\",mean)"
   ]
  },
  {
   "cell_type": "markdown",
   "metadata": {},
   "source": [
    "_**Task 4**_<br>\n",
    "\n",
    "<font color=\"lightgreen\">Dive into statistical depths and compute a 95% confidence interval for the Normal\n",
    "distribution, shedding light on the range within which the true mean, μ, lies. Visualize your\n",
    "findings through a histogram, capturing the harmonious rhythm of Gaussian fluctuations.</font>"
   ]
  },
  {
   "cell_type": "markdown",
   "metadata": {},
   "source": [
    "To compute a 95% confidence interval for the mean of a normal distribution, we can use the formula:\n",
    "\n",
    "<a href=\"https://ibb.co/3Nw2x9y\"><img src=\"https://i.ibb.co/G2XyZ4v/Confidence-interval.png\" alt=\"Confidence-interval\" border=\"0\"></a>\n",
    "\n"
   ]
  },
  {
   "cell_type": "code",
   "execution_count": 8,
   "metadata": {},
   "outputs": [
    {
     "data": {
      "image/png": "[encoded data removed]",
      "text/plain": [
       "<Figure size 1500x800 with 1 Axes>"
      ]
     },
     "metadata": {},
     "output_type": "display_data"
    },
    {
     "name": "stdout",
     "output_type": "stream",
     "text": [
      "95% Confidence Interval: (4.793050415948009, 5.146824089553361)\n"
     ]
    }
   ],
   "source": [
    "import numpy as np\n",
    "import matplotlib.pyplot as plt\n",
    "from scipy.stats import norm\n",
    "\n",
    "sample_mean = np.mean(normal_random_numbers)\n",
    "sample_std = np.std(normal_random_numbers)\n",
    "sample_size=10000\n",
    "confidence_level=0.95\n",
    "\n",
    "# Calculate z-score for 95% confidence level\n",
    "z_score = abs(norm.ppf((1 - confidence_level) / 2))  # Using the standard normal distribution\n",
    "\n",
    "# Calculate the margin of error\n",
    "margin_of_error = z_score * (sample_std / np.sqrt(sample_size))\n",
    "\n",
    "# Compute the 95% confidence interval\n",
    "confidence_interval = (sample_mean - margin_of_error, sample_mean + margin_of_error)\n",
    "\n",
    "# Plot histogram\n",
    "plt.figure(figsize=(15, 8))\n",
    "plt.hist(normal_random_numbers, bins=20, density=True,color='blue', alpha=0.5,edgecolor=\"black\")\n",
    "plt.title('Histogram of Normal Distribution with 95% Confidence Interval')\n",
    "plt.xlabel('Value')\n",
    "plt.ylabel('Frequency')\n",
    "\n",
    "# Plot the confidence interval\n",
    "plt.axvline(x=confidence_interval[0], color='red', linestyle='--', label='95% Confidence Interval')\n",
    "plt.axvline(x=confidence_interval[1], color='red', linestyle='--')\n",
    "plt.axvline(x=mean, color='green', linestyle='--', label='Mean = {:.2f}'.format(mean))\n",
    "\n",
    "plt.legend()\n",
    "plt.grid(True)\n",
    "plt.show()\n",
    "\n",
    "print(\"95% Confidence Interval:\", confidence_interval)\n"
   ]
  },
  {
   "cell_type": "markdown",
   "metadata": {},
   "source": [
    "(4.969007242948365, 5.320954988300727) in this range true mean lie. "
   ]
  },
  {
   "cell_type": "markdown",
   "metadata": {},
   "source": [
    "# Q2."
   ]
  },
  {
   "cell_type": "markdown",
   "metadata": {},
   "source": [
    "# The Poisson Generator"
   ]
  },
  {
   "cell_type": "markdown",
   "metadata": {},
   "source": [
    "_**Task 1**_<br>\n",
    "\n",
    "<font color=\"lightgreen\">Generate 10,000 random numbers using the Poisson distribution. Set the λ parameter to\n",
    "represent the average rate of events per interval. Document your chosen value for λ and explain\n",
    "how it influences the distribution.</font>"
   ]
  },
  {
   "cell_type": "markdown",
   "metadata": {},
   "source": [
    "Function to Generate Poisson distribution"
   ]
  },
  {
   "cell_type": "code",
   "execution_count": 9,
   "metadata": {},
   "outputs": [],
   "source": [
    "import numpy as np\n",
    "import random\n",
    "import math\n",
    "import matplotlib.pyplot as plt\n",
    "import ipywidgets as widgets\n",
    "from IPython.display import display\n",
    "\n",
    "def generate_poisson_distribution(mean_poisson_rate, size):\n",
    "    \"\"\"\n",
    "    Generate random numbers following a Poisson distribution.\n",
    "\n",
    "    Parameters:\n",
    "        mean_poisson_rate (float): Average rate of events per interval (λ).\n",
    "        size (int): Number of random numbers to generate.\n",
    "\n",
    "    Returns:\n",
    "        list: List of random numbers following a Poisson distribution.\n",
    "    \"\"\"\n",
    "    poisson_distribution = []\n",
    "    for _ in range(size):\n",
    "        k = 0\n",
    "        p = 1.0\n",
    "        eminuslamda= math.exp(-mean_poisson_rate)\n",
    "        while True:\n",
    "            y = random.uniform(0,1)\n",
    "            p *= y\n",
    "\n",
    "            if p > eminuslamda:\n",
    "                k += 1\n",
    "            else:\n",
    "                poisson_distribution.append(k)\n",
    "                break\n",
    "    return poisson_distribution\n"
   ]
  },
  {
   "cell_type": "code",
   "execution_count": 10,
   "metadata": {},
   "outputs": [
    {
     "name": "stdout",
     "output_type": "stream",
     "text": [
      "Generated random numbers: [19, 19, 18, 14, 19, 13, 21, 16, 18, 20]\n"
     ]
    }
   ],
   "source": [
    "mean_poisson = 15\n",
    "num_samples = 10000\n",
    "\n",
    "random_numbers = generate_poisson_distribution(mean_poisson, num_samples)\n",
    "\n",
    "print(\"Generated random numbers:\", random_numbers[:10])"
   ]
  },
  {
   "cell_type": "code",
   "execution_count": 11,
   "metadata": {},
   "outputs": [
    {
     "name": "stdout",
     "output_type": "stream",
     "text": [
      "Mean:  15.0213 \n",
      "Variance:  15.33104631\n"
     ]
    }
   ],
   "source": [
    "# Calculating  mean and variance \n",
    "mean = np.mean(random_numbers)\n",
    "variance = np.var(random_numbers)\n",
    "print(\"Mean: \", mean, \"\\nVariance: \", variance)"
   ]
  },
  {
   "cell_type": "markdown",
   "metadata": {},
   "source": [
    "* <font color=\"lightgreen\"> The mean of the generated data **14.9656 ** is close to the mean arrival rate of the Poisson distribution (15).<br>\n",
    "* This is expected because the mean of a Poisson distribution is equal to its lambda.<br>\n",
    "* The variance of the generated data **15.163416640000001** is also close to the mean arrival rate (15).<br>\n",
    "* This is another characteristic of the Poisson distribution, where the variance is equal to the mean (lambda)."
   ]
  },
  {
   "cell_type": "code",
   "execution_count": 12,
   "metadata": {},
   "outputs": [
    {
     "data": {
      "application/vnd.jupyter.widget-view+json": {
       "model_id": "bec2d4ed1b6b4f09bc7bb6954a3b6935",
       "version_major": 2,
       "version_minor": 0
      },
      "text/plain": [
       "interactive(children=(FloatSlider(value=15.0, continuous_update=False, description='λ:', max=20.0, min=1.0, st…"
      ]
     },
     "metadata": {},
     "output_type": "display_data"
    }
   ],
   "source": [
    "def plot_poisson_distribution(mean_poisson_rate):\n",
    "    random_numbers = generate_poisson_distribution(mean_poisson_rate, size=10000)\n",
    "    mean=sum(random_numbers)/10000\n",
    "    plt.figure(figsize=(15, 8))\n",
    "    plt.hist(random_numbers, bins=20, density=True,color='blue', alpha=0.5,edgecolor=\"black\")\n",
    "    plt.axvline(x=mean_poisson_rate, color='red', linestyle='--', label='Theo_Mean = {:.2f}'.format(mean_poisson_rate))\n",
    "    plt.annotate('Theo_Mean = {:.2f}'.format(mean_poisson_rate),\n",
    "            xy=(mean_poisson_rate, 0.02), xycoords='data',\n",
    "            xytext=(mean_poisson_rate + 1, 0.03), textcoords='data',\n",
    "            bbox=dict(boxstyle=\"round,pad=0.3\", fc=\"white\", ec=\"black\", lw=1))\n",
    "    plt.axvline(x=mean, color='green', linestyle='--', label='Gen_Mean = {:.2f}'.format(mean))\n",
    "    plt.annotate('Gen_Mean  = {:.2f}'.format(mean),\n",
    "            xy=(mean, 0.05), xycoords='data',\n",
    "            xytext=(mean + 1, 0.08), textcoords='data',\n",
    "            bbox=dict(boxstyle=\"round,pad=0.3\", fc=\"white\", ec=\"black\", lw=1))\n",
    "    plt.title('Poisson Distribution with Mean')\n",
    "    plt.title('Poisson Distribution (λ={})'.format(mean_poisson_rate))\n",
    "    plt.xlabel('Number of Events')\n",
    "    plt.ylabel('Probability Density')\n",
    "    plt.show()\n",
    "\n",
    "# Slider for lambda\n",
    "lambda_slider = widgets.FloatSlider(value=15, min=1, max=20, step=1, description='λ:', continuous_update=False)\n",
    "\n",
    "# Interactive plot\n",
    "widgets.interact(plot_poisson_distribution, mean_poisson_rate=lambda_slider);"
   ]
  },
  {
   "cell_type": "markdown",
   "metadata": {},
   "source": [
    "_**Task 2**_<br>\n",
    "\n",
    "<font color=\"lightgreen\">Calculate the expected point, the mean of your generated Poisson numbers. What insights\n",
    "does this provide into the central tendency of your dataset?</font>"
   ]
  },
  {
   "cell_type": "code",
   "execution_count": 13,
   "metadata": {},
   "outputs": [
    {
     "name": "stdout",
     "output_type": "stream",
     "text": [
      "15.0213\n"
     ]
    }
   ],
   "source": [
    "mean=sum(random_numbers)/10000\n",
    "print(mean)"
   ]
  },
  {
   "cell_type": "markdown",
   "metadata": {},
   "source": [
    " The mean represents the central tendency of the dataset, indicating the data points are clustered around the mean."
   ]
  },
  {
   "cell_type": "markdown",
   "metadata": {},
   "source": [
    "_**Task 3**_<br>\n",
    "\n",
    "<font color=\"lightgreen\">Dive into the statistical depths and compute a 95% confidence interval for your Poisson\n",
    "distribution. Unveil the range within which you are confident the true mean lies. How does the\n",
    "interval reflect the reliability of your data?</font>"
   ]
  },
  {
   "cell_type": "code",
   "execution_count": 14,
   "metadata": {},
   "outputs": [
    {
     "name": "stdout",
     "output_type": "stream",
     "text": [
      "95% Confidence Interval for the mean: (7.425004496052522, 22.617595503947477)\n"
     ]
    }
   ],
   "source": [
    "from scipy.stats import chi2\n",
    "\n",
    "# Calculate the mean of the generated Poisson numbers\n",
    "mean = np.mean(random_numbers)\n",
    "\n",
    "confidence_level=0.95\n",
    "\n",
    "# Calculate the sample size\n",
    "n = len(random_numbers)\n",
    "\n",
    "# Calculate the sum of the observations\n",
    "sum_x = np.sum(random_numbers)\n",
    "\n",
    "# Calculate the z-score corresponding to the desired confidence level (95% confidence)\n",
    "z_score = abs(norm.ppf((1 + confidence_level) / 2))\n",
    "\n",
    "# Calculate the standard error of the mean\n",
    "std_error = np.sqrt(1/n * sum_x)\n",
    "\n",
    "# Compute the 95% confidence interval\n",
    "confidence_interval = (mean - z_score * std_error, mean + z_score * std_error)\n",
    "\n",
    "print(\"95% Confidence Interval for the mean:\", confidence_interval)\n"
   ]
  },
  {
   "cell_type": "markdown",
   "metadata": {},
   "source": [
    "_**Task 4**_<br>\n",
    "\n",
    "<font color=\"lightgreen\">Visualize the Poisson distribution using a histogram. What patterns emerge, and how\n",
    "do they align with the theoretical expectations? Share your insights and observations.</font>"
   ]
  },
  {
   "cell_type": "code",
   "execution_count": 15,
   "metadata": {},
   "outputs": [
    {
     "data": {
      "application/vnd.jupyter.widget-view+json": {
       "model_id": "e62a7bb27a6241e6917e98fb57618db3",
       "version_major": 2,
       "version_minor": 0
      },
      "text/plain": [
       "interactive(children=(FloatSlider(value=15.0, continuous_update=False, description='λ:', max=20.0, min=1.0, st…"
      ]
     },
     "metadata": {},
     "output_type": "display_data"
    }
   ],
   "source": [
    "# Slider for lambda\n",
    "lambda_slider = widgets.FloatSlider(value=15, min=1, max=20, step=1, description='λ:', continuous_update=False)\n",
    "\n",
    "# Interactive plot\n",
    "widgets.interact(plot_poisson_distribution, mean_poisson_rate=lambda_slider);"
   ]
  },
  {
   "cell_type": "markdown",
   "metadata": {},
   "source": [
    "* As lambda increases, the distribution becomes more concentrated around its mean, and the skewness decreases.\n",
    "* The spread of the distribution is influenced by the lambda parameter. Higher values of lambda result in distributions with a narrower spread, while lower values of lambda result in distributions with a wider spread."
   ]
  },
  {
   "cell_type": "markdown",
   "metadata": {},
   "source": [
    "# Q3."
   ]
  },
  {
   "cell_type": "markdown",
   "metadata": {},
   "source": [
    "A market researcher is conducting a study to estimate the proportion (p) of customers satisfied\n",
    "with a new product launch. The researcher assumes that the quality of her sample is such that it\n",
    "can be safely assumed to be a random sample from the Bernoulli distribution with the unknown\n",
    "parameter p.<br>\n",
    "\n",
    "The researcher wants to determine the smallest sample size (n) needed to estimate the satisfaction\n",
    "proportion with ±3% accuracy, at a 99% confidence level. The estimator for the proportion is\n",
    "given by ˆp = Y/n , where Y is the number of satisfied customers in the sample.<br>\n",
    "\n",
    "Assuming that the sampling distribution of ˆp is well approximated by a normal distribution, your\n",
    "task is to write a Python function to find the smallest sample size (n) under the given conditions."
   ]
  },
  {
   "cell_type": "markdown",
   "metadata": {},
   "source": [
    "<a href=\"https://imgbb.com/\"><img src=\"https://i.ibb.co/DMGtm0b/q3.png\" alt=\"q3\" border=\"0\"></a>"
   ]
  },
  {
   "cell_type": "markdown",
   "metadata": {},
   "source": [
    "Confidence Interval"
   ]
  },
  {
   "cell_type": "markdown",
   "metadata": {},
   "source": [
    "<a href=\"https://ibb.co/2S6Qd32\"><img src=\"https://i.ibb.co/xYs06qv/q3-1.png\" alt=\"q3-1\" border=\"0\"></a>"
   ]
  },
  {
   "cell_type": "markdown",
   "metadata": {},
   "source": [
    "where x_bar =p_cap"
   ]
  },
  {
   "cell_type": "markdown",
   "metadata": {},
   "source": [
    "in general case p_cap=0.5"
   ]
  },
  {
   "cell_type": "code",
   "execution_count": 16,
   "metadata": {},
   "outputs": [
    {
     "name": "stdout",
     "output_type": "stream",
     "text": [
      "Smallest sample size needed: 1844\n"
     ]
    }
   ],
   "source": [
    "import math\n",
    "from scipy.stats import norm\n",
    "\n",
    "def find_sample_size(margin_of_error, confidence_level, estimated_proportion=0.5):\n",
    "    # Calculate the z-score corresponding to the desired confidence level\n",
    "    z_score = abs(norm.ppf((1 - confidence_level) / 2))  # Using the standard normal distribution\n",
    "\n",
    "    # Calculate the sample size\n",
    "    sample_size = math.ceil((z_score**2 * estimated_proportion * (1 - estimated_proportion)) / margin_of_error**2)\n",
    "\n",
    "    return sample_size\n",
    "\n",
    "#given value\n",
    "margin_of_error = 0.03  # ±3%\n",
    "confidence_level = 0.99  # 99% confidence level\n",
    "\n",
    "smallest_sample_size = find_sample_size(margin_of_error, confidence_level)\n",
    "print(\"Smallest sample size needed:\", smallest_sample_size)\n"
   ]
  },
  {
   "cell_type": "markdown",
   "metadata": {},
   "source": [
    "<p align='center'>***</p>"
   ]
  }
 ],
 "metadata": {
  "kernelspec": {
   "display_name": "base",
   "language": "python",
   "name": "python3"
  },
  "language_info": {
   "codemirror_mode": {
    "name": "ipython",
    "version": 3
   },
   "file_extension": ".py",
   "mimetype": "text/x-python",
   "name": "python",
   "nbconvert_exporter": "python",
   "pygments_lexer": "ipython3",
   "version": "3.11.7"
  }
 },
 "nbformat": 4,
 "nbformat_minor": 2
}
