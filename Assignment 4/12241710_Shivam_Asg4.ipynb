{
 "cells": [
  {
   "cell_type": "markdown",
   "metadata": {},
   "source": [
    "# <p align=\"center\">DS201: Statistical Programming</p>\n",
    "<p align=\"center\">Assignment 4</p>\n",
    "\n",
    "\n",
    "<font color=\"lightgreen\">**Name:** Shivam<br>\n",
    "**Roll No:** 12241710</font>\n",
    "\n",
    "\n"
   ]
  },
  {
   "cell_type": "markdown",
   "metadata": {},
   "source": [
    "# Q1."
   ]
  },
  {
   "cell_type": "markdown",
   "metadata": {},
   "source": [
    "Consider a random sample X1,X2,...,X10000 drawn from a Poisson distribution with mean θ.\n",
    "Show that the critical region C defined by ∑10000\n",
    "i=1 Xi ≥3 is a best critical region for testing\n",
    "H0 : θ = 0.2 against H1 : θ = 0.6. Determine, for this test, the significance level α and the power\n",
    "at θ = 0.6"
   ]
  },
  {
   "cell_type": "markdown",
   "metadata": {},
   "source": [
    "_**1.**_<br>\n",
    "\n",
    "<font color=\"lightgreen\">Write a Python function to generate a random sample of size 10000 from a Poisson distribution\n",
    "with mean θ.</font>"
   ]
  },
  {
   "cell_type": "markdown",
   "metadata": {},
   "source": [
    "Function to Generate Poisson distribution"
   ]
  },
  {
   "cell_type": "code",
   "execution_count": 25,
   "metadata": {},
   "outputs": [],
   "source": [
    "import math\n",
    "import numpy as np\n",
    "import random\n",
    "import math\n",
    "from scipy.stats import t\n",
    "\n",
    "def generate_poisson_distribution(mean_poisson_rate, size):\n",
    "    \"\"\"\n",
    "    Generate random numbers following a Poisson distribution.\n",
    "\n",
    "    Parameters:\n",
    "        mean_poisson_rate (float): Average rate of events per interval (λ).\n",
    "        size (int): Number of random numbers to generate.\n",
    "\n",
    "    Returns:\n",
    "        list: List of random numbers following a Poisson distribution.\n",
    "    \"\"\"\n",
    "    poisson_distribution = []\n",
    "    for _ in range(size):\n",
    "        k = 0\n",
    "        p = 1.0\n",
    "        eminuslamda= math.exp(-mean_poisson_rate)\n",
    "        while True:\n",
    "            y = random.uniform(0,1)\n",
    "            p *= y\n",
    "            if p > eminuslamda:\n",
    "                k += 1\n",
    "            else:\n",
    "                poisson_distribution.append(k)\n",
    "                break\n",
    "    return poisson_distribution"
   ]
  },
  {
   "cell_type": "markdown",
   "metadata": {},
   "source": [
    "# Example\n",
    "Poisson_samples with theta=15"
   ]
  },
  {
   "cell_type": "code",
   "execution_count": 26,
   "metadata": {},
   "outputs": [
    {
     "data": {
      "text/plain": [
       "[14, 20, 13, 13, 13, 17, 12, 18, 16, 12]"
      ]
     },
     "execution_count": 26,
     "metadata": {},
     "output_type": "execute_result"
    }
   ],
   "source": [
    "theta=15\n",
    "size=10000\n",
    "poisson_sample=generate_poisson_distribution(theta, size)\n",
    "poisson_sample[:10]"
   ]
  },
  {
   "cell_type": "code",
   "execution_count": 27,
   "metadata": {},
   "outputs": [
    {
     "data": {
      "application/vnd.jupyter.widget-view+json": {
       "model_id": "e093852d9c75497e9cf539d889a0f28d",
       "version_major": 2,
       "version_minor": 0
      },
      "text/plain": [
       "interactive(children=(FloatSlider(value=15.0, continuous_update=False, description='λ:', max=20.0, min=1.0, st…"
      ]
     },
     "metadata": {},
     "output_type": "display_data"
    }
   ],
   "source": [
    "import matplotlib.pyplot as plt\n",
    "import ipywidgets as widgets\n",
    "\n",
    "def plot_poisson_distribution(mean_poisson_rate):\n",
    "        random_numbers = generate_poisson_distribution(mean_poisson_rate, size=10000)\n",
    "        plt.figure(figsize=(15, 8))\n",
    "        plt.hist(random_numbers, bins=20, density=True,color='blue', alpha=0.5,edgecolor=\"black\")\n",
    "        plt.axvline(x=mean_poisson_rate, color='red', linestyle='--', label='Mean = {:.2f}'.format(mean_poisson_rate))\n",
    "        plt.annotate('Mean = {:.2f}'.format(mean_poisson_rate),\n",
    "                xy=(mean_poisson_rate, 0.02), xycoords='data',\n",
    "                xytext=(mean_poisson_rate + 1, 0.03), textcoords='data',\n",
    "                bbox=dict(boxstyle=\"round,pad=0.3\", fc=\"white\", ec=\"black\", lw=1))\n",
    "\n",
    "        plt.title('Poisson Distribution with Mean')\n",
    "        plt.title('Poisson Distribution (λ={})'.format(mean_poisson_rate))\n",
    "        plt.xlabel('Number of Events')\n",
    "        plt.ylabel('Probability Density')\n",
    "        plt.show()\n",
    "\n",
    "# Slider for lambda\n",
    "lambda_slider = widgets.FloatSlider(value=15, min=1, max=20, step=1, description='λ:', continuous_update=False)\n",
    "\n",
    "# Interactive plot\n",
    "widgets.interact(plot_poisson_distribution, mean_poisson_rate=lambda_slider);"
   ]
  },
  {
   "cell_type": "markdown",
   "metadata": {},
   "source": [
    "_**2.**_<br>\n",
    "\n",
    "<font color=\"lightgreen\">Define the critical region C as the sum of the sample being greater than or equal to 3.</font>"
   ]
  },
  {
   "cell_type": "markdown",
   "metadata": {},
   "source": [
    "- The Critical region is defined as a region C in higher dimensions in which the hypothesis $ H_0 $ is rejected if the random sample $ X_1, X_2, ....., X_n $ lies in it.<br>\n",
    "    Accepted when $ (X_1, X_2,......, X_n) \\; \\notin \\; C $<br>\n",
    "   Rejected when $ (X_1, X_2,......, X_n) \\; \\in \\; C $<br>\n",
    "\n",
    "-  There can be 2 types of errors while testing a hypothesis:\n",
    "  1.  Type 1 error: When $ H_0 $ is correct but we have assumed it to be wrong. This provides us with the significance value alpha.\n",
    "  The significance level \n",
    " of a statistical hypothesis test is the probability of rejecting the null hypothesis, given that it is true.\n",
    "  2.  Type 2 error: When $ H_0 $ is wrong but we have taken it to be correct. This provides us with the OC(Operating Characteristic) or (1 - Power)\n",
    "\n",
    "We have Random Sample $X_{1},X_{2},\\dots,X_{n}$ drawn from Poisson.\n",
    "Then each sample has a pmf of $f(x_{i};\\theta)= \\dfrac{\\theta^{x_i} e^{-\\theta}}{{x_{i}!}} , x_{i} = 0,1,2\\dots$\n",
    "\n",
    "Their likelihood function is given as $L(\\theta; x_1, x_2, \\dots, x_{n}) = \\dfrac{e^{-n\\theta}\\,\\theta^{\\,\\sum\\limits_{i=1}^{n}x_i}}{\\prod\\limits_{i=1}^{n} (x_i!)}$.\n",
    "\n",
    "For testing our Hypothesis $H_{\\circ} : \\theta = 0.2 $ against $H_{1} : \\theta = 0.6$\n",
    "\n",
    "$\\therefore,$ Using Neyman–Pearson Theorem, for each r.s. $\\overrightarrow{x} \\in $ Critical region, $C$,\n",
    "$$\\dfrac{L(\\theta = 0.2;\\overrightarrow{x})}{L(\\theta = 0.6;\\overrightarrow x)} \\le k $$\n",
    "$$\\dfrac{\\dfrac{e^{-n(0.2)}\\,(0.2)^{\\,\\sum\\limits_{i=1}^{n}x_{i}}}{\\prod\\limits_{i=1}^{n} (x_i!)}}{\\dfrac{e^{-n(0.6)}\\,(0.6)^{\\,\\sum\\limits_{i=1}^{n}x_i}}{\\prod\\limits_{i=1}^{n} (x_i!)}} \\le k$$\n",
    "\n",
    "$$e^{n(0.4)} \\cdot \\left(\\dfrac{1}{3}\\right)^{\\sum\\limits_{i=1}^{n}x_{i}}\\le k$$\n",
    "\n",
    "$$3^{\\sum\\limits_{i=1}^{n}x_{i}} \\ge \\frac{e^{0.4n}}{k}$$\n",
    "\n",
    "$$\\sum\\limits_{i=1}^{n}x_{i} \\ge \\dfrac{0.4n-\\ln(k)}{\\ln(3)}$$\n",
    "\n",
    "Best Critical Region depends on n as mentioned above, if we choose $ n=10$, we get,\n",
    "$\\sum\\limits_{i=1}^{n}x_{i} \\ge 3 $\n",
    ", irrespective of k.\n"
   ]
  },
  {
   "cell_type": "markdown",
   "metadata": {},
   "source": [
    "The expected mean for $\\sum\\limits_{i=1}^{n}x_{i}$ can be taken as $n\\theta$.\n",
    "\n",
    "Let's assume $n=10$ for theoretical analysis. Then group mean at $\\theta = 0.2$ becomes $\\lambda = 10\\cdot0.2=2$.\n",
    "\n",
    "The Significance Level for the test can be calculated as:\n",
    "$$\\alpha = \\gamma_C(\\theta=0.2) = P_{\\{\\theta=0.6\\}}(\\overrightarrow x \\in C)$$\n",
    "$$=P_{\\{\\theta=0.2\\}}\\left(\\sum\\limits_{i=1}^{10} x_i \\geq 3\\right)$$\n",
    "$$= P(x_i \\geq 3) = 1 - P(x_i < 3)$$\n",
    "$$=1 - (P(x = 0) + P(x = 1) + P(x = 2))$$\n",
    "$$=1-e^{-2}\\left(\\dfrac{2^0}{0!}+\\dfrac{2^1}{1!}+\\dfrac{2^2}{2!}\\right)$$\n",
    "$$= 0.32332$$"
   ]
  },
  {
   "cell_type": "markdown",
   "metadata": {},
   "source": [
    "Then group mean at $\\theta = 0.6$ becomes $\\lambda = 10\\cdot0.6=6$.\n",
    "\n",
    "The power of test at $\\theta = 0.6$ is calculated as:\n",
    "$$\\gamma_{C}(\\theta = 0.6) = P_{\\{\\theta=0.6\\}}(\\overrightarrow x \\in C)$$\n",
    "$$=P_{\\{\\theta=0.6\\}}\\left(\\sum\\limits_{i=1}^{10} x_i \\geq 3\\right)$$\n",
    "$$= P(x_i \\geq 3) = 1 - P(x_i < 3)$$\n",
    "$$=1 - (P(x = 0) + P(x = 1) + P(x = 2))$$\n",
    "$$=1-e^{-6}\\left(\\dfrac{6^0}{0!}+\\dfrac{6^1}{1!}+\\dfrac{6^2}{2!}\\right)$$\n",
    "$$= 0.93803$$"
   ]
  },
  {
   "cell_type": "code",
   "execution_count": 28,
   "metadata": {},
   "outputs": [],
   "source": [
    "def crticial_test(sample):\n",
    "    return sum(sample)>=3"
   ]
  },
  {
   "cell_type": "code",
   "execution_count": 29,
   "metadata": {},
   "outputs": [
    {
     "data": {
      "text/plain": [
       "149884"
      ]
     },
     "execution_count": 29,
     "metadata": {},
     "output_type": "execute_result"
    }
   ],
   "source": [
    "sum(poisson_sample)"
   ]
  },
  {
   "cell_type": "code",
   "execution_count": 30,
   "metadata": {},
   "outputs": [
    {
     "data": {
      "text/plain": [
       "True"
      ]
     },
     "execution_count": 30,
     "metadata": {},
     "output_type": "execute_result"
    }
   ],
   "source": [
    "crticial_test(poisson_sample)"
   ]
  },
  {
   "cell_type": "markdown",
   "metadata": {},
   "source": [
    "_**3.**_<br>\n",
    "\n",
    "<font color=\"lightgreen\">Perform hypothesis testing by comparing the critical region with the significance level α.</font>"
   ]
  },
  {
   "cell_type": "code",
   "execution_count": 31,
   "metadata": {},
   "outputs": [],
   "source": [
    "theta_null = 0.2\n",
    "theta_alt = 0.6"
   ]
  },
  {
   "cell_type": "code",
   "execution_count": 32,
   "metadata": {},
   "outputs": [],
   "source": [
    "def power_test(theta,sample_size =size, sim=1000):\n",
    "    \"\"\"Calculate the power of the test at θ\"\"\"\n",
    "    rej = 0\n",
    "    for _ in range(sim):\n",
    "        sample = generate_poisson_distribution(theta, sample_size)\n",
    "        if crticial_test(sample):\n",
    "            rej += 1\n",
    "    power = rej / sim\n",
    "    return power"
   ]
  },
  {
   "cell_type": "code",
   "execution_count": 33,
   "metadata": {},
   "outputs": [
    {
     "name": "stdout",
     "output_type": "stream",
     "text": [
      "Significance Level for null hypothesis : 0.34 . Since, it is less than theoretical alpha, we can say null hypothesis is rejected.\n"
     ]
    }
   ],
   "source": [
    "alpha = power_test(theta_null, sample_size =10)\n",
    "print(\"Significance Level for null hypothesis :\",alpha,\". Since, it is less than theoretical alpha, we can say null hypothesis is rejected.\")"
   ]
  },
  {
   "cell_type": "markdown",
   "metadata": {},
   "source": [
    "_**4.**_<br>\n",
    "\n",
    "<font color=\"lightgreen\">Calculate the power of the test at θ = 0.6</font>"
   ]
  },
  {
   "cell_type": "code",
   "execution_count": 34,
   "metadata": {},
   "outputs": [
    {
     "name": "stdout",
     "output_type": "stream",
     "text": [
      "Power of the test at θ = 0.6: 0.932\n"
     ]
    }
   ],
   "source": [
    "power = power_test(theta_alt,sample_size=10)\n",
    "print(\"Power of the test at θ = 0.6:\", power)"
   ]
  },
  {
   "cell_type": "markdown",
   "metadata": {},
   "source": [
    "# Q2."
   ]
  },
  {
   "cell_type": "markdown",
   "metadata": {},
   "source": [
    "Consider a random sample X1,X2,...,X100 drawn from a normal distribution with mean μ and\n",
    "standard deviation σ. Show that the critical region C defined by  ̄X ≥20 is a best critical region\n",
    "for testing H0 : μ = 15 against H1 : μ = 18. Determine, for this test, the significance level α and\n",
    "the power at μ = 18.\n"
   ]
  },
  {
   "cell_type": "markdown",
   "metadata": {},
   "source": [
    "_**1.**_<br>\n",
    "\n",
    "<font color=\"lightgreen\">Write a Python function to generate a random sample of size 100 from a normal distribution\n",
    "with mean μ and standard deviation σ.</font>"
   ]
  },
  {
   "cell_type": "markdown",
   "metadata": {},
   "source": [
    "Function to Generate Normal distribution"
   ]
  },
  {
   "cell_type": "markdown",
   "metadata": {},
   "source": [
    " The Box-Muller Transform"
   ]
  },
  {
   "cell_type": "code",
   "execution_count": 35,
   "metadata": {},
   "outputs": [],
   "source": [
    "import numpy as np\n",
    "def generate_normal_distribution(mean, sigma, size):\n",
    "    a = np.random.rand(size)\n",
    "    b = np.random.rand(size)\n",
    "\n",
    "    z = np.sqrt(-2 * np.log(a)) * np.cos(2 * np.pi * b)\n",
    "\n",
    "    return mean + sigma * z"
   ]
  },
  {
   "cell_type": "markdown",
   "metadata": {},
   "source": [
    "# Example:"
   ]
  },
  {
   "cell_type": "code",
   "execution_count": 36,
   "metadata": {},
   "outputs": [
    {
     "name": "stdout",
     "output_type": "stream",
     "text": [
      "Generated random numbers: [12.03765064 13.84830969 14.83631728 13.83303872 18.29212624 14.44906235\n",
      " 14.2053459  14.58579179 20.68733136 13.19590822]\n"
     ]
    }
   ],
   "source": [
    "mean = 15\n",
    "sigma=3\n",
    "size = 100\n",
    "\n",
    "normal_random_numbers = generate_normal_distribution(mean, sigma,size)\n",
    "\n",
    "print(\"Generated random numbers:\",normal_random_numbers[:10])"
   ]
  },
  {
   "cell_type": "code",
   "execution_count": 37,
   "metadata": {},
   "outputs": [
    {
     "data": {
      "text/plain": [
       "Text(0, 0.5, 'Frequency')"
      ]
     },
     "execution_count": 37,
     "metadata": {},
     "output_type": "execute_result"
    },
    {
     "data": {
      "image/png": "[encoded data removed]",
      "text/plain": [
       "<Figure size 1500x800 with 1 Axes>"
      ]
     },
     "metadata": {},
     "output_type": "display_data"
    }
   ],
   "source": [
    "plt.figure(figsize=(15, 8))\n",
    "count, bins, ignored=plt.hist(normal_random_numbers, bins=20, density=True,color='blue', alpha=0.5,edgecolor=\"black\")\n",
    "plt.plot(bins, 1/(sigma * np.sqrt(2 * np.pi)) *\n",
    "               np.exp( - (bins - mean)**2 / (2 * sigma**2) ),\n",
    "        linewidth=2, color='r')\n",
    "plt.title('Normal Distribution')\n",
    "plt.xlabel('Value')\n",
    "plt.ylabel('Frequency')"
   ]
  },
  {
   "cell_type": "markdown",
   "metadata": {},
   "source": [
    "_**2.**_<br>\n",
    "\n",
    "<font color=\"lightgreen\">Define the critical region C as the sample mean (x̄)being greater than or equal to 20.</font>"
   ]
  },
  {
   "cell_type": "markdown",
   "metadata": {},
   "source": [
    "We have Random Sample $X_{1},X_{2},\\dots,X_{100}$ drawn from Gaussian, where each $X_i$ follows $f(x_i)=\\dfrac{1}{\\sqrt{2\\pi}\\sigma}e^{-\\dfrac{1}{2}\\left(\\dfrac{x_i-\\mu}{\\sigma}\\right)^2}$.\n",
    "\n",
    "The likelihood of the sample is given by $L(\\theta;\\overrightarrow x) = \\left(\\dfrac{1}{\\sqrt{2\\pi}\\sigma}\\right)^{100} e^{\\dfrac{-1}{2}\\sum\\limits_{i=1}^{100}\\left(\\dfrac{x_i-\\mu}{\\sigma}\\right)^2}$.\n",
    "\n",
    "Employing the same method as in Q1 for testing hypothesis $H_{\\circ}:\\mu=15$ against $H_1:\\mu=18$, we assume for some $k\\ge0$,\n",
    "\n",
    "$$\\dfrac{L(\\mu = 15;\\overrightarrow{x})}{L(\\mu = 18;\\overrightarrow x)} \\le k $$\n",
    "$$\\dfrac{\\left(\\dfrac{1}{\\sqrt{2\\pi}\\sigma}\\right)^{100} e^{\\sum\\limits_{i=1}^{100}\\left(\\dfrac{x_i-15}{\\sigma}\\right)^2}}{\\left(\\dfrac{1}{\\sqrt{2\\pi}\\sigma}\\right)^{100} e^{\\sum\\limits_{i=1}^{100}\\left(\\dfrac{x_i-18}{\\sigma}\\right)^2}}\\le k$$\n",
    "\n",
    "$$e^{\\dfrac{-1}{2\\sigma^2}\\sum\\limits_{i=1}^{100}(x_i-15)^2-(x_i-18)^2}\\le k$$\n",
    "$$\\dfrac{-1}{2\\sigma ^2}\\sum\\limits_{i=1}^{100}(2x_i-33)(3) \\le \\ln(k)$$\n",
    "$$200 \\bar X - 3300\\ge \\dfrac{-2\\sigma^2}{3}\\ln(k)$$\n",
    "$$\\bar X \\ge \\dfrac{3300}{200}-\\dfrac{\\sigma^2}{300}\\ln(k)$$\n",
    "\n",
    "Approximately, $$\\bar X \\ge 20$$"
   ]
  },
  {
   "cell_type": "markdown",
   "metadata": {},
   "source": [
    "Define Critical region $C$ as $\\bar X\\ge 20$.\n",
    "\n",
    "Assuming $\\sigma = 10$ for simplicity, we can find significance level as\n",
    "$$\\alpha = P_{\\mu=15}(\\bar X \\notin C)$$\n",
    "$$=P_{\\mu=15}(\\bar X \\le 20)$$\n",
    "$$= P_{\\mu=15}\\left(\\dfrac{\\bar X-15}{10/10} \\le \\dfrac{20-15}{10/10} \\right)$$\n",
    "$$=\\Phi(5)$$\n",
    "$$\\approx 1$$"
   ]
  },
  {
   "cell_type": "markdown",
   "metadata": {},
   "source": [
    "For finding power of test at $\\mu = 18$, we need\n",
    "$$\\gamma_C(\\mu=18) = P_{\\mu=18}(\\bar X \\in C)$$\n",
    "$$=P_{\\mu=18}(\\bar X \\ge 20)$$\n",
    "$$= P_{\\mu=18}\\left(\\dfrac{\\bar X-18}{10/10} \\ge \\dfrac{20-18}{10/10} \\right)$$\n",
    "$$=1-\\Phi(2)$$\n",
    "$$=0.02275$$"
   ]
  },
  {
   "cell_type": "code",
   "execution_count": 38,
   "metadata": {},
   "outputs": [],
   "source": [
    "def crticial_test_2(sample):\n",
    "    return np.mean(sample) >= 20"
   ]
  },
  {
   "cell_type": "code",
   "execution_count": 39,
   "metadata": {},
   "outputs": [
    {
     "data": {
      "text/plain": [
       "15.021145326829382"
      ]
     },
     "execution_count": 39,
     "metadata": {},
     "output_type": "execute_result"
    }
   ],
   "source": [
    "sum(normal_random_numbers)/100"
   ]
  },
  {
   "cell_type": "code",
   "execution_count": 40,
   "metadata": {},
   "outputs": [
    {
     "data": {
      "text/plain": [
       "False"
      ]
     },
     "execution_count": 40,
     "metadata": {},
     "output_type": "execute_result"
    }
   ],
   "source": [
    "crticial_test_2(normal_random_numbers)"
   ]
  },
  {
   "cell_type": "markdown",
   "metadata": {},
   "source": [
    "_**3.**_<br>\n",
    "\n",
    "<font color=\"lightgreen\">Perform hypothesis testing by comparing the critical region with the significance level α.</font>"
   ]
  },
  {
   "cell_type": "code",
   "execution_count": 41,
   "metadata": {},
   "outputs": [],
   "source": [
    "def power_test_2(mu,sample_size =100, sim=1000):\n",
    "    \"\"\"Calculate the power of the test at θ\"\"\"\n",
    "    rej = 0\n",
    "    for _ in range(sim):\n",
    "        sample = generate_normal_distribution(mu, 10, sample_size)\n",
    "        if crticial_test(sample):\n",
    "            rej += 1\n",
    "    power = rej / sim\n",
    "    return power"
   ]
  },
  {
   "cell_type": "code",
   "execution_count": 42,
   "metadata": {},
   "outputs": [],
   "source": [
    "mu_null = 15\n",
    "mu_alt = 18"
   ]
  },
  {
   "cell_type": "code",
   "execution_count": 43,
   "metadata": {},
   "outputs": [
    {
     "name": "stdout",
     "output_type": "stream",
     "text": [
      "Significance Level for null hypothesis : 1.0 . Since, it is less than theoretical alpha, we can say null hypothesis is accepted.\n"
     ]
    }
   ],
   "source": [
    "alpha = power_test_2(mu_null, sample_size =100)\n",
    "print(\"Significance Level for null hypothesis :\",alpha,\". Since, it is less than theoretical alpha, we can say null hypothesis is accepted.\")"
   ]
  },
  {
   "cell_type": "markdown",
   "metadata": {},
   "source": [
    "_**4.**_<br>\n",
    "\n",
    "<font color=\"lightgreen\">Calculate the power of the test at μ = 18.</font>"
   ]
  },
  {
   "cell_type": "code",
   "execution_count": 44,
   "metadata": {},
   "outputs": [
    {
     "name": "stdout",
     "output_type": "stream",
     "text": [
      "Power of the test at μ = 18: 1.0\n"
     ]
    }
   ],
   "source": [
    "power = power_test_2(mu_alt,sample_size=100)\n",
    "print(\"Power of the test at μ = 18:\", power)"
   ]
  },
  {
   "cell_type": "markdown",
   "metadata": {},
   "source": [
    "# Q3."
   ]
  },
  {
   "cell_type": "markdown",
   "metadata": {},
   "source": [
    "In a study on music’s effect on memory, 40 participants are split: one group listens to classical\n",
    "music while studying, and the other studies silently. After a memory test, scores are recorded.\n",
    "Scores of the classical music group:\n",
    "\n",
    "78, 82, 85, 79, 81, 83, 80, 77, 79, 84, 76, 82, 80, 81, 83, 78, 82, 79, 81, 83,77, 80, 81, 84, 79, 82, 80,\n",
    "82, 83, 78, 75, 78, 82, 83, 76, 80, 82, 84, 77, 79\n",
    "\n",
    "The mean score before the study is 75. Researchers hypothesize that listening to classical music\n",
    "improves memory, leading to a sample mean significantly higher than 75.\n",
    "\n",
    "Test if the sample mean is significantly different from 75 at the 0.05 level. Report p value.\n",
    "\n",
    "After review, one score of 85 was mistakenly recorded as 75. Are the corrected scores significantly\n",
    "different from 75 at the 0.05 level?"
   ]
  },
  {
   "cell_type": "code",
   "execution_count": 45,
   "metadata": {},
   "outputs": [],
   "source": [
    "# Original scores\n",
    "scores = [78, 82, 85, 79, 81, 83, 80, 77, 79, 84, 76, 82, 80, 81, 83, 78, 82, 79, 81, 83, 77, 80, 81, 84, 79, 82, 80, 82, 83, 78, 75, 78, 82, 83, 76, 80, 82, 84, 77, 79]\n"
   ]
  },
  {
   "cell_type": "code",
   "execution_count": 46,
   "metadata": {},
   "outputs": [],
   "source": [
    "def t_test(true, sample):\n",
    "    mean = np.mean(sample)\n",
    "    std = np.std(sample, ddof=1)\n",
    "    n = len(sample)\n",
    "    t_val = (mean - true) / (std / np.sqrt(n))\n",
    "    \n",
    "    return t_val"
   ]
  },
  {
   "cell_type": "code",
   "execution_count": 47,
   "metadata": {},
   "outputs": [],
   "source": [
    "def p_test(t_val, df):\n",
    "    p_value = 2 * (1 - t.cdf(np.abs(t_val), df))\n",
    "    \n",
    "    return p_value"
   ]
  },
  {
   "cell_type": "code",
   "execution_count": 48,
   "metadata": {},
   "outputs": [
    {
     "name": "stdout",
     "output_type": "stream",
     "text": [
      "Original Scores:\n",
      "Sample Mean: 80.375\n",
      "T-Statistic: 13.443560663316497\n",
      "P-Value: 4.440892098500626e-16\n"
     ]
    }
   ],
   "source": [
    "true_mean=75\n",
    "sample_mean = np.mean(scores)\n",
    "\n",
    "t_statistic = t_test(true_mean, scores)\n",
    "p_value = p_test(t_statistic, len(scores)-1)\n",
    "\n",
    "print(\"Original Scores:\")\n",
    "print(\"Sample Mean:\", sample_mean)\n",
    "print(\"T-Statistic:\", t_statistic)\n",
    "print(\"P-Value:\", p_value)"
   ]
  },
  {
   "cell_type": "code",
   "execution_count": 49,
   "metadata": {},
   "outputs": [
    {
     "name": "stdout",
     "output_type": "stream",
     "text": [
      "\n",
      "Corrected Scores:\n",
      "Sample Mean: 80.125\n",
      "T-Statistic: 12.69167538501612\n",
      "P-Value: 1.9984014443252818e-15\n"
     ]
    }
   ],
   "source": [
    "# Corrected scores: replacing 85 with the correct value\n",
    "corrected_scores = [78, 82, 75, 79, 81, 83, 80, 77, 79, 84, 76, 82, 80, 81, 83, 78, 82, 79, 81, 83, 77, 80, 81, 84, 79, 82, 80, 82, 83, 78, 75, 78, 82, 83, 76, 80, 82, 84, 77, 79]\n",
    "\n",
    "# Sample statistics\n",
    "corrected_sample_mean = np.mean(corrected_scores)\n",
    "corrected_sample_std = np.std(corrected_scores, ddof=1)  \n",
    "\n",
    "# Calculate t-statistic\n",
    "corrected_t_statistic = t_test(true_mean, corrected_scores)\n",
    "\n",
    "\n",
    "# Calculate p-value\n",
    "corrected_p_value = p_test(corrected_t_statistic, len(scores)-1)\n",
    "\n",
    "print(\"\\nCorrected Scores:\")\n",
    "print(\"Sample Mean:\", corrected_sample_mean)\n",
    "print(\"T-Statistic:\", corrected_t_statistic)\n",
    "print(\"P-Value:\", corrected_p_value)\n"
   ]
  },
  {
   "cell_type": "markdown",
   "metadata": {},
   "source": [
    "# Refrences"
   ]
  },
  {
   "cell_type": "markdown",
   "metadata": {},
   "source": [
    "* https://www.vaia.com/en-us/textbooks/math/introduction-to-mathematical-statistics-8-edition/chapter-8/problem-10-let-x1-x2-ldots-x10-denote-a-random-sample-of-siz/ <br>\n",
    "* https://online.stat.psu.edu/stat415/lesson/25/25.1"
   ]
  },
  {
   "cell_type": "markdown",
   "metadata": {},
   "source": [
    "<p align='center'>***</p>"
   ]
  }
 ],
 "metadata": {
  "kernelspec": {
   "display_name": "base",
   "language": "python",
   "name": "python3"
  },
  "language_info": {
   "codemirror_mode": {
    "name": "ipython",
    "version": 3
   },
   "file_extension": ".py",
   "mimetype": "text/x-python",
   "name": "python",
   "nbconvert_exporter": "python",
   "pygments_lexer": "ipython3",
   "version": "3.11.7"
  }
 },
 "nbformat": 4,
 "nbformat_minor": 2
}
